{
 "cells": [
  {
   "cell_type": "code",
   "execution_count": 2,
   "id": "4ea998bc",
   "metadata": {},
   "outputs": [],
   "source": [
    "import pymongo\n",
    "import datetime\n",
    "import json\n",
    "from pymongo import MongoClient, InsertOne"
   ]
  },
  {
   "cell_type": "code",
   "execution_count": 4,
   "id": "591126f3",
   "metadata": {},
   "outputs": [
    {
     "data": {
      "text/plain": [
       "['admin', 'config', 'local']"
      ]
     },
     "execution_count": 4,
     "metadata": {},
     "output_type": "execute_result"
    }
   ],
   "source": [
    "client = pymongo.MongoClient(\"mongodb://localhost:27017\")\n",
    "client.list_database_names()"
   ]
  },
  {
   "cell_type": "code",
   "execution_count": 16,
   "id": "90f02a8e",
   "metadata": {},
   "outputs": [],
   "source": [
    "#Creating a database\n",
    "db = client [\"Telephone_Directory\"]"
   ]
  },
  {
   "cell_type": "code",
   "execution_count": 15,
   "id": "c15883d9",
   "metadata": {},
   "outputs": [
    {
     "data": {
      "text/plain": [
       "[]"
      ]
     },
     "execution_count": 15,
     "metadata": {},
     "output_type": "execute_result"
    }
   ],
   "source": [
    "#Creating a collection into the database\n",
    "collection_name=db[\"user_info\"]\n",
    "db.list_collection_names()"
   ]
  },
  {
   "cell_type": "code",
   "execution_count": 17,
   "id": "b4898178",
   "metadata": {},
   "outputs": [],
   "source": [
    "#json file with info\n",
    "info = [{\n",
    " \"Name\": \"Haritha\",\n",
    " \"Ph.No\": 9665043563,\n",
    " \"Place\": \"Delhi\"\n",
    "},\n",
    " {\n",
    " \"Name\": \"Monica\",\n",
    " \"Ph.No\": 1235675431,\n",
    " \"Place\": \"Mumbai\"\n",
    "},\n",
    " {\n",
    " \"Name\": \"Keer\",\n",
    " \"Ph.No\": 3578905641,\n",
    " \"Place\": \"Chennai\"\n",
    "},\n",
    " {\n",
    " \"Name\": \"Rohit\",\n",
    " \"Ph.No\": 9068462534,\n",
    " \"Place\": \"Chennai\"\n",
    "},\n",
    " {\n",
    " \"Name\": \"Mac\",\n",
    " \"Ph.No\": 7958462547,\n",
    " \"Place\": \"Coimbatore\"\n",
    "}\n",
    "]"
   ]
  },
  {
   "cell_type": "code",
   "execution_count": 18,
   "id": "60b4ef69",
   "metadata": {},
   "outputs": [
    {
     "data": {
      "text/plain": [
       "<pymongo.results.InsertManyResult at 0x7fd110278d60>"
      ]
     },
     "execution_count": 18,
     "metadata": {},
     "output_type": "execute_result"
    }
   ],
   "source": [
    "#inserting json file into the collection\n",
    "collection_name.insert_many(info)"
   ]
  },
  {
   "cell_type": "code",
   "execution_count": 30,
   "id": "53388e38",
   "metadata": {},
   "outputs": [
    {
     "name": "stdout",
     "output_type": "stream",
     "text": [
      "{'_id': ObjectId('635d414e61dd62e4ef7b5199'), 'Name': 'Monica', 'Ph.No': 1235675431, 'Place': 'Mumbai'}\n"
     ]
    }
   ],
   "source": [
    "#Query to find records\n",
    "print(collection_name.find_one({\"Name\": \"Monica\"}))"
   ]
  },
  {
   "cell_type": "code",
   "execution_count": 22,
   "id": "cc578fdc",
   "metadata": {},
   "outputs": [
    {
     "data": {
      "text/plain": [
       "<pymongo.results.UpdateResult at 0x7fd11025e7f0>"
      ]
     },
     "execution_count": 22,
     "metadata": {},
     "output_type": "execute_result"
    }
   ],
   "source": [
    "#Modify records\n",
    "query=collection_name.find_one({\"Name\": \"Keer\"})\n",
    "update={'$set':{\"Place\": \"Pune\"}}\n",
    "collection_name.update_one(query,update)"
   ]
  },
  {
   "cell_type": "code",
   "execution_count": 25,
   "id": "a7c320eb",
   "metadata": {},
   "outputs": [
    {
     "data": {
      "text/plain": [
       "<pymongo.results.DeleteResult at 0x7fd0d0d9c790>"
      ]
     },
     "execution_count": 25,
     "metadata": {},
     "output_type": "execute_result"
    }
   ],
   "source": [
    "#delete records\n",
    "collection_name.delete_one({\"phone No \": 7958462547})"
   ]
  },
  {
   "cell_type": "code",
   "execution_count": null,
   "id": "1e733b08",
   "metadata": {},
   "outputs": [],
   "source": []
  },
  {
   "cell_type": "code",
   "execution_count": null,
   "id": "dd1f2597",
   "metadata": {},
   "outputs": [],
   "source": []
  },
  {
   "cell_type": "code",
   "execution_count": null,
   "id": "8c7c9b19",
   "metadata": {},
   "outputs": [],
   "source": []
  }
 ],
 "metadata": {
  "kernelspec": {
   "display_name": "Python 3",
   "language": "python",
   "name": "python3"
  },
  "language_info": {
   "codemirror_mode": {
    "name": "ipython",
    "version": 3
   },
   "file_extension": ".py",
   "mimetype": "text/x-python",
   "name": "python",
   "nbconvert_exporter": "python",
   "pygments_lexer": "ipython3",
   "version": "3.8.8"
  }
 },
 "nbformat": 4,
 "nbformat_minor": 5
}
